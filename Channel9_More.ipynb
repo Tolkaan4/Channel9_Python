{
    "cells": [
        {
            "cell_type": "markdown",
            "source": [
                "# More Python 01"
            ],
            "metadata": {}
        },
        {
            "cell_type": "markdown",
            "source": [],
            "metadata": {}
        },
        {
            "cell_type": "markdown",
            "source": [
                "## Formatting and Linting PEP8\r\n",
                "- Spaces, not tabs\r\n",
                "- variable_name, not Camel or Pascalcase\r\n",
                "- Avoid extraneous whitespace {'good': 42} { 'bad' : 20 }\r\n",
                "- Pylint with configuration file\r\n",
                "- use docstring for inline documentatione \r\n",
                "    ~~~~ \r\n",
                "    \"\"\"\r\n",
                "    Explain function\r\n",
                "    \r\n",
                "    Parameters:\r\n",
                "          name (str): the name of ..\r\n",
                "    Returns:\r\n",
                "        str: the greeting\r\n",
                "    \"\"\" \r\n",
                "    print('Hello, ' + name)\r\n",
                "    ~~~~\r\n",
                "-challenge with weakly typed languages\r\n",
                "    ~~~\r\n",
                "    def get_greeting(name):\r\n",
                "        return 'Hello, ' + name\r\n",
                "\r\n",
                "    message = get_greeting(42)\r\n",
                "    print(message)\r\n",
                "    ___\r\n",
                "    def get_greeting(name: str) -> str:\r\n",
                "        return 'Hello, ' + name\r\n",
                "    ~~~\r\n"
            ],
            "metadata": {}
        },
        {
            "cell_type": "code",
            "execution_count": 8,
            "source": [
                "def print_hello(name: str) ->str:\r\n",
                "    \"\"\"\r\n",
                "    Returns a greeting\r\n",
                "\r\n",
                "    Parameters:\r\n",
                "        name (str): The name of the person\r\n",
                "    Returns:\r\n",
                "        The message\r\n",
                "    \"\"\"\r\n",
                "    #message = f'Hello, {name} !'\r\n",
                "    message = 'Hello, ' + name\r\n",
                "    print(message)\r\n",
                "\r\n",
                "print_hello('Mary')\r\n"
            ],
            "outputs": [
                {
                    "output_type": "stream",
                    "name": "stdout",
                    "text": [
                        "Hello, Mary\n"
                    ]
                }
            ],
            "metadata": {}
        },
        {
            "cell_type": "markdown",
            "source": [
                "## Lambdas"
            ],
            "metadata": {}
        },
        {
            "cell_type": "code",
            "execution_count": 3,
            "source": [
                "def sorter (item: str) ->str:\r\n",
                "    return item['name']\r\n",
                "\r\n",
                "presenters = [\r\n",
                "    {'name': 'Susan',  'age': 50},\r\n",
                "    {'name': 'Christopher', 'age': 47},\r\n",
                "    {'name': 'Karen', 'age': 45},\r\n",
                "    {'name': 'Gert', 'age': 54}\r\n",
                "]\r\n",
                "\r\n",
                "presenters.sort(key=sorter)\r\n",
                "print(presenters)\r\n"
            ],
            "outputs": [
                {
                    "output_type": "stream",
                    "name": "stdout",
                    "text": [
                        "[{'name': 'Christopher', 'age': 47}, {'name': 'Gert', 'age': 54}, {'name': 'Karen', 'age': 45}, {'name': 'Susan', 'age': 50}]\n"
                    ]
                }
            ],
            "metadata": {}
        },
        {
            "cell_type": "code",
            "execution_count": 4,
            "source": [
                "presenters = [\r\n",
                "    {'name': 'Susan',  'age': 50},\r\n",
                "    {'name': 'Christopher', 'age': 47},\r\n",
                "    {'name': 'Karen', 'age': 45},\r\n",
                "    {'name': 'Gert', 'age': 54}\r\n",
                "]\r\n",
                "\r\n",
                "presenters.sort(key=lambda item: (item['name']))\r\n",
                "print(presenters)"
            ],
            "outputs": [
                {
                    "output_type": "stream",
                    "name": "stdout",
                    "text": [
                        "[{'name': 'Christopher', 'age': 47}, {'name': 'Gert', 'age': 54}, {'name': 'Karen', 'age': 45}, {'name': 'Susan', 'age': 50}]\n"
                    ]
                }
            ],
            "metadata": {}
        },
        {
            "cell_type": "code",
            "execution_count": 5,
            "source": [
                "presenters = [\r\n",
                "    {'name': 'Susan',  'age': 50},\r\n",
                "    {'name': 'Christopher', 'age': 47},\r\n",
                "    {'name': 'Karen', 'age': 45},\r\n",
                "    {'name': 'Gert', 'age': 54}\r\n",
                "]\r\n",
                "\r\n",
                "presenters.sort(key=lambda item: len(item['name']))\r\n",
                "print(presenters)"
            ],
            "outputs": [
                {
                    "output_type": "stream",
                    "name": "stdout",
                    "text": [
                        "[{'name': 'Gert', 'age': 54}, {'name': 'Susan', 'age': 50}, {'name': 'Karen', 'age': 45}, {'name': 'Christopher', 'age': 47}]\n"
                    ]
                }
            ],
            "metadata": {}
        },
        {
            "cell_type": "markdown",
            "source": [
                "## Classes\r\n",
                "- classes are nouns\r\n",
                "- properties are adjectives\r\n",
                "- methods are verbs"
            ],
            "metadata": {}
        },
        {
            "cell_type": "code",
            "execution_count": 8,
            "source": [
                "class Presenter():\r\n",
                "    def __init__(self, name):\r\n",
                "        #Constructor\r\n",
                "        self.name = name\r\n",
                "    def say_hello(self):\r\n",
                "        #Method\r\n",
                "        print(f'Hello, {self.name}!')\r\n",
                "\r\n",
                "presenter = Presenter()\r\n",
                "presenter.name = 'Gert'\r\n",
                "presenter.say_hello()\r\n"
            ],
            "outputs": [
                {
                    "output_type": "stream",
                    "name": "stdout",
                    "text": [
                        "Hello, Gert!\n"
                    ]
                }
            ],
            "metadata": {}
        },
        {
            "cell_type": "markdown",
            "source": [
                "### Accessibility in Python\r\n",
                "- EVERYTHING is PUBLIC\r\n",
                "- _ means avoid unless you really know what you're doing\r\n",
                "- __ means **do not use**"
            ],
            "metadata": {}
        },
        {
            "cell_type": "code",
            "execution_count": null,
            "source": [],
            "outputs": [],
            "metadata": {}
        },
        {
            "cell_type": "code",
            "execution_count": 12,
            "source": [
                "class Presenter():\r\n",
                "    def __init__(self, name):\r\n",
                "        #Constructor\r\n",
                "        self.name = name\r\n",
                "    \r\n",
                "    @property           #x = presenter.name\r\n",
                "    def name(self):\r\n",
                "        print('In the Getter')\r\n",
                "        return self.__name\r\n",
                "    @name.setter        #presenter.name = 'Christopher'\r\n",
                "    def name(self, value):\r\n",
                "        print('In the Setter')\r\n",
                "        #cool validation here\r\n",
                "        self.__name = value\r\n",
                "\r\n",
                "    def say_hello(self):\r\n",
                "        #Method\r\n",
                "        print(f'Hello, {self.name}!')\r\n",
                "\r\n",
                "\r\n",
                "presenter = Presenter('Chris')\r\n",
                "presenter.name = 'Gert'\r\n",
                "presenter.say_hello()\r\n"
            ],
            "outputs": [
                {
                    "output_type": "stream",
                    "name": "stdout",
                    "text": [
                        "In the Setter\n",
                        "In the Setter\n",
                        "In the Getter\n",
                        "Hello, Gert!\n"
                    ]
                }
            ],
            "metadata": {}
        },
        {
            "cell_type": "markdown",
            "source": [
                "## Inheritance\r\n",
                "- Specialization: Student is a Person\r\n",
                "\r\n",
                "#### Python inheritance in action\r\n",
                "~~~\r\n",
                "All methods are \"virtual\" (can override or redefine their behavior)\r\n",
                "Keyword **super** to access parent class\r\n",
                "Must always call parent constructor\r\n",
                "~~~"
            ],
            "metadata": {}
        },
        {
            "cell_type": "code",
            "execution_count": 2,
            "source": [
                "class Person:\r\n",
                "    def __init__(self, name):\r\n",
                "        self.name = name\r\n",
                "    def say_hello(self):\r\n",
                "        print(f'Hello, {self.name}')\r\n",
                "\r\n",
                "class Student(Person):\r\n",
                "    def __init__(self, name, school):\r\n",
                "        super().__init__(name)\r\n",
                "        self.school = school\r\n",
                "    def sing_school_song(self):\r\n",
                "        print(f'Ode to {self.school}')\r\n",
                "\r\n",
                "student = Student('Christopher', 'UMD')\r\n",
                "student.say_hello()\r\n",
                "student.sing_school_song()\r\n"
            ],
            "outputs": [
                {
                    "output_type": "stream",
                    "name": "stdout",
                    "text": [
                        "Hello, Christopher\n",
                        "Ode to UMD\n"
                    ]
                }
            ],
            "metadata": {}
        }
    ],
    "metadata": {
        "orig_nbformat": 4,
        "language_info": {
            "name": "python",
            "version": "3.9.5",
            "mimetype": "text/x-python",
            "codemirror_mode": {
                "name": "ipython",
                "version": 3
            },
            "pygments_lexer": "ipython3",
            "nbconvert_exporter": "python",
            "file_extension": ".py"
        },
        "kernelspec": {
            "name": "python3",
            "display_name": "Python 3.9.5 64-bit"
        },
        "interpreter": {
            "hash": "0e04011cde85fed3f0b08440b5f8ce0eeaf1cccde4ade78f2194286c30ef4c00"
        }
    },
    "nbformat": 4,
    "nbformat_minor": 2
}