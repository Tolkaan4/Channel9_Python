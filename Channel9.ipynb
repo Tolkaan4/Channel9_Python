{
 "cells": [
  {
   "cell_type": "markdown",
   "source": [
    "# Strings 9: .../44\r\n"
   ],
   "metadata": {}
  },
  {
   "cell_type": "code",
   "execution_count": 5,
   "source": [
    "#retrieve name from user\r\n",
    "first_name = input('Please enter your first name: ')\r\n",
    "last_name = input('Please enter your last name:')\r\n",
    "#print name\r\n",
    "# print('Hello, ' + first_name.capitalize() + ' ' + last_name.capitalize())\r\n",
    "output = 'Hello, {0} {1}'.format(first_name,last_name)\r\n",
    "print(output)\r\n",
    "#only Python 3\r\n",
    "output = f'Hello, {first_name.capitalize()} {last_name.capitalize()}'\r\n",
    "print(output)\r\n"
   ],
   "outputs": [
    {
     "output_type": "stream",
     "name": "stdout",
     "text": [
      "Hello, GERT wuYTS\n",
      "Hello, Gert Wuyts\n"
     ]
    }
   ],
   "metadata": {}
  },
  {
   "cell_type": "markdown",
   "source": [
    "# Numbers 13 ../44\r\n",
    " + - / * and **"
   ],
   "metadata": {}
  },
  {
   "cell_type": "code",
   "execution_count": 4,
   "source": [
    "days_in_feb = 28\r\n",
    "print(str(days_in_feb) + ' days in february')\r\n"
   ],
   "outputs": [
    {
     "output_type": "stream",
     "name": "stdout",
     "text": [
      "28 days in february\n"
     ]
    }
   ],
   "metadata": {}
  },
  {
   "cell_type": "code",
   "execution_count": 8,
   "source": [
    "first_num = input('Enter first number')\r\n",
    "sec_num = input('Enter second number')\r\n",
    "print(int(first_num) + int(sec_num))\r\n",
    "print(float(first_num) + float(sec_num))"
   ],
   "outputs": [
    {
     "output_type": "stream",
     "name": "stdout",
     "text": [
      "14\n",
      "14.0\n"
     ]
    }
   ],
   "metadata": {}
  },
  {
   "cell_type": "markdown",
   "source": [
    "# Dates 15 ..:44"
   ],
   "metadata": {}
  },
  {
   "cell_type": "code",
   "execution_count": 11,
   "source": [
    "#To get current date and time \r\n",
    "#we need to use  the datetime library\r\n",
    "from datetime import datetime, timedelta\r\n",
    "\r\n",
    "today = datetime.now()\r\n",
    "#the now function returns a datetime object\r\n",
    "output = f'Today is {str(today)}'\r\n",
    "print(output)\r\n",
    "print (f'Year: {str(today.year)}')\r\n",
    "print (f'Month: {str(today.month)}')\r\n",
    "print(f'Day: {str(today.day)}')\r\n",
    "\r\n",
    "#timedelta is used to defin a period of time\r\n",
    "one_day= timedelta(days=1)\r\n",
    "yesterday = today-one_day\r\n",
    "output = f'Yesterday was {str(yesterday)}'\r\n",
    "print(output)\r\n",
    "\r\n"
   ],
   "outputs": [
    {
     "output_type": "stream",
     "name": "stdout",
     "text": [
      "Today is 2021-07-10 22:39:55.317732\n",
      "Year: 2021\n",
      "Month: 7\n",
      "Day: 10\n",
      "Yesterday was 2021-07-09 22:39:55.317732\n"
     ]
    }
   ],
   "metadata": {}
  },
  {
   "cell_type": "code",
   "execution_count": 12,
   "source": [
    "from datetime import datetime, timedelta\r\n",
    "birthday = input('When is your birthday? dd/mm/yyyy')\r\n",
    "birthday_date = datetime.strptime(birthday, '%d/%m/%Y')\r\n",
    "\r\n",
    "print(f'Birthday: {str(birthday_date)}')"
   ],
   "outputs": [
    {
     "output_type": "stream",
     "name": "stdout",
     "text": [
      "Birthday: 1967-03-12 00:00:00\n"
     ]
    }
   ],
   "metadata": {}
  },
  {
   "cell_type": "markdown",
   "source": [
    "# Error Handling 17/44:\r\n",
    "    Syntax errors\r\n",
    "    Runtime errors\r\n",
    "       try:\r\n",
    "            ...\r\n",
    "        except:\r\n",
    "            ...\r\n",
    "        finally:\r\n",
    "            ...\r\n",
    "    Logic errors\r\n"
   ],
   "metadata": {}
  },
  {
   "cell_type": "markdown",
   "source": [
    "# Handling Conditions 19 .../44"
   ],
   "metadata": {}
  },
  {
   "cell_type": "code",
   "execution_count": 7,
   "source": [
    "price = float(input('How much did you pay?'))\r\n",
    "\r\n",
    "if price >= 1.00:\r\n",
    "    tax = 0.7\r\n",
    "else:\r\n",
    "    tax = 0\r\n",
    "\r\n",
    "print(f'Tax rate is: {str(tax)}')\r\n"
   ],
   "outputs": [
    {
     "output_type": "stream",
     "name": "stdout",
     "text": [
      "Tax rate is: 0\n"
     ]
    }
   ],
   "metadata": {}
  },
  {
   "cell_type": "code",
   "execution_count": 5,
   "source": [
    "country = input('Enter the name of your home country: ')\r\n",
    "if country.lower() == 'canada':\r\n",
    "    print('Oh look a Canadian')\r\n",
    "else:\r\n",
    "    print('You are not from Canada')"
   ],
   "outputs": [
    {
     "output_type": "stream",
     "name": "stdout",
     "text": [
      "Oh look a Canadian\n"
     ]
    }
   ],
   "metadata": {}
  },
  {
   "cell_type": "code",
   "execution_count": 8,
   "source": [
    "province = input('In which Canadian province did you spent?')\r\n",
    "province= province.capitalize()\r\n",
    "\r\n",
    "if province == 'Alberta' \\\r\n",
    "    or province == 'Nunavut' \\\r\n",
    "    or province == 'Yukon':\r\n",
    "      tax = 0.05\r\n",
    "elif province == 'Ontario':\r\n",
    "      tax = 0.13\r\n",
    "else:\r\n",
    "      tax = 0.15\r\n",
    "\r\n",
    "print(f'You spent in: {province} and paid a tax: {str(tax)}')"
   ],
   "outputs": [
    {
     "output_type": "stream",
     "name": "stdout",
     "text": [
      "You spent in: Ontario and paid a tax: 0.13\n"
     ]
    }
   ],
   "metadata": {}
  },
  {
   "cell_type": "code",
   "execution_count": 9,
   "source": [
    "province = input('In which Canadian province did you spent?')\r\n",
    "province= province.capitalize()\r\n",
    "\r\n",
    "if province in ('Alberta' \\\r\n",
    "                'Nunavut','Yukon'):\r\n",
    "      tax = 0.05\r\n",
    "elif province == 'Ontario':\r\n",
    "      tax = 0.13\r\n",
    "else:\r\n",
    "      tax = 0.15\r\n",
    "\r\n",
    "print(f'You spent in: {province} and paid a tax: {str(tax)}')"
   ],
   "outputs": [
    {
     "output_type": "stream",
     "name": "stdout",
     "text": [
      "You spent in: Yukon and paid a tax: 0.05\n"
     ]
    }
   ],
   "metadata": {}
  },
  {
   "cell_type": "code",
   "execution_count": 3,
   "source": [
    "grade_point_average = float(input('Your grade point average: (%)'))/100\r\n",
    "lowest_grade =input('Your lowest grade: (%)')\r\n",
    "\r\n",
    "# grade_point_average = float(grade_point_average)/100\r\n",
    "lowest_grade = float(lowest_grade)/100\r\n",
    "\r\n",
    "if grade_point_average >= .85 \\\r\n",
    "    and lowest_grade >= .70:\r\n",
    "      print('Well done')\r\n",
    "\r\n",
    "if grade_point_average >= .85 and lowest_grade >= .70:\r\n",
    "    honour_roll = True\r\n",
    "else:\r\n",
    "    honour_roll = False\r\n",
    "\r\n",
    "if honour_roll:\r\n",
    "    print('You made honour roll!')"
   ],
   "outputs": [
    {
     "output_type": "stream",
     "name": "stdout",
     "text": [
      "Well done\n",
      "Well done!\n"
     ]
    }
   ],
   "metadata": {}
  },
  {
   "cell_type": "markdown",
   "source": [
    "# Collections 25 ../44\r\n",
    "## lists"
   ],
   "metadata": {}
  },
  {
   "cell_type": "code",
   "execution_count": 11,
   "source": [
    "names = ['Christo', 'Susan']\r\n",
    "scores = []\r\n",
    "scores.append(98)\r\n",
    "scores.append(99)\r\n",
    "\r\n",
    "print(scores)\r\n",
    "print(scores[1])\r\n",
    "\r\n",
    "print(len(names))\r\n",
    "names.insert(0, 'Bill')\r\n",
    "names.insert(0, 'Justin')\r\n",
    "print(names)\r\n",
    "names.sort()\r\n",
    "print(names)\r\n",
    "\r\n",
    "presenters = names[1:3]\r\n",
    "print(presenters)\r\n",
    "\r\n",
    "presenters = names[:3]\r\n",
    "print(presenters)\r\n"
   ],
   "outputs": [
    {
     "output_type": "stream",
     "name": "stdout",
     "text": [
      "[98, 99]\n",
      "99\n",
      "2\n",
      "['Justin', 'Bill', 'Christo', 'Susan']\n",
      "['Bill', 'Christo', 'Justin', 'Susan']\n",
      "['Christo', 'Justin']\n",
      "['Bill', 'Christo', 'Justin']\n"
     ]
    }
   ],
   "metadata": {}
  },
  {
   "cell_type": "markdown",
   "source": [
    "## arrays"
   ],
   "metadata": {}
  },
  {
   "cell_type": "code",
   "execution_count": 6,
   "source": [
    "from array import array\r\n",
    "\r\n",
    "#'d' indicates the datatype of the array = double\r\n",
    "scores = array('d')\r\n",
    "scores.append(98)\r\n",
    "scores.append(99)\r\n",
    "\r\n",
    "print(scores)\r\n",
    "print(scores[1])\r\n",
    "\r\n",
    "\r\n"
   ],
   "outputs": [
    {
     "output_type": "stream",
     "name": "stdout",
     "text": [
      "array('d', [98.0, 99.0])\n",
      "99.0\n"
     ]
    }
   ],
   "metadata": {}
  },
  {
   "cell_type": "markdown",
   "source": [
    "## Dictionaries"
   ],
   "metadata": {}
  },
  {
   "cell_type": "code",
   "execution_count": 12,
   "source": [
    "person = {'first': 'Christopher'}\r\n",
    "person['last'] = 'Harrison'\r\n",
    "print(person)\r\n",
    "print(person['first'])"
   ],
   "outputs": [
    {
     "output_type": "stream",
     "name": "stdout",
     "text": [
      "{'first': 'Christopher', 'last': 'Harrison'}\n",
      "Christopher\n"
     ]
    }
   ],
   "metadata": {}
  },
  {
   "cell_type": "code",
   "execution_count": 14,
   "source": [
    "christopher = {}\r\n",
    "christopher['first'] = 'Christopher'\r\n",
    "christopher['last'] = 'Harrison'\r\n",
    "\r\n",
    "susan = {}\r\n",
    "susan['first'] = 'susan'\r\n",
    "susan['last'] = 'Ibach'\r\n",
    "\r\n",
    "people = []\r\n",
    "people.append(christopher)\r\n",
    "people.append(susan)\r\n",
    "people.append({\r\n",
    "    'first': 'Bill', 'last': 'Gates'\r\n",
    "})\r\n",
    "\r\n",
    "print(people)"
   ],
   "outputs": [
    {
     "output_type": "stream",
     "name": "stdout",
     "text": [
      "[{'first': 'Christopher', 'last': 'Harrison'}, {'first': 'susan', 'last': 'Ibach'}, {'first': 'Bill', 'last': 'Gates'}]\n"
     ]
    }
   ],
   "metadata": {}
  },
  {
   "cell_type": "markdown",
   "source": [
    "# Loops"
   ],
   "metadata": {}
  },
  {
   "cell_type": "code",
   "execution_count": 17,
   "source": [
    "people = ['Christopher', 'Susan', 'Karen', 'Gert']\r\n",
    "\r\n",
    "for name in people:\r\n",
    "    print(name)\r\n",
    "\r\n",
    "index = 0\r\n",
    "while index < len(people):\r\n",
    "    print(people[index])\r\n",
    "    index = index +1"
   ],
   "outputs": [
    {
     "output_type": "stream",
     "name": "stdout",
     "text": [
      "Christopher\n",
      "Susan\n",
      "Karen\n",
      "Gert\n",
      "Christopher\n",
      "Susan\n",
      "Karen\n",
      "Gert\n"
     ]
    }
   ],
   "metadata": {}
  },
  {
   "cell_type": "markdown",
   "source": [
    "# Functions "
   ],
   "metadata": {}
  },
  {
   "cell_type": "code",
   "execution_count": null,
   "source": [],
   "outputs": [],
   "metadata": {}
  }
 ],
 "metadata": {
  "orig_nbformat": 4,
  "language_info": {
   "name": "python"
  }
 },
 "nbformat": 4,
 "nbformat_minor": 2
}